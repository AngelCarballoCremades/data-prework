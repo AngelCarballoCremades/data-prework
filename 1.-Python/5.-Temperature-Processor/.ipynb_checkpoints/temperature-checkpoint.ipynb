{
 "cells": [
  {
   "cell_type": "markdown",
   "metadata": {},
   "source": [
    "<img src=\"https://bit.ly/2VnXWr2\" width=\"100\" align=\"left\">"
   ]
  },
  {
   "cell_type": "markdown",
   "metadata": {},
   "source": [
    "# Temperature Sensor\n",
    "\n",
    "There is a temperature sensor in the processor of your company's server. The company wants to analyze the data provided by the sensor to decide if they should change the cooling system for a better one. As changing the cooling system is expensive and you are an excellent data analyst, you can't make a decision without basis.\n",
    "\n",
    "## Tools\n",
    "You don't necessarily need to use all the tools. Maybe you opt to use some of them or completely different ones, they are given to help you shape the exercise. Programming exercises can be solved in many different ways.\n",
    "1. Data structures: **lists**\n",
    "2. Loops: **list comprehension**\n",
    "3. Functions: **min, max, print, len**\n",
    "4. Conditional statements: **if-elif-else**\n",
    "\n",
    "## Tasks\n",
    "The temperatures measured throughout the 24 hours of a day are:"
   ]
  },
  {
   "cell_type": "code",
   "execution_count": 98,
   "metadata": {},
   "outputs": [],
   "source": [
    "temperatures_C = [33, 66, 65, 0, 59, 60, 62, 64, 70, 76, 80, 81, 80, 83, 90, 79, 61, 53, 50, 49, 53, 48, 45, 39]"
   ]
  },
  {
   "cell_type": "markdown",
   "metadata": {},
   "source": [
    "The first element of the list is the temperature at 12am, the second element is the temperature at 1am, and so on. \n",
    "\n",
    "The company has decided that if one of the following events occurs, then the cooling system needs to be replaced for a new one to avoid damaging the processor.\n",
    "* More than 4 temperatures are greater than or equal to 70ºC.\n",
    "* Any temperature is above 80ºC.\n",
    "* The average temperature exceeds 65ºC.\n",
    "\n",
    "Follow the steps so that you can make the decision.\n",
    "\n",
    "#### 1. Find the minimum temperature of the day and store it in a variable."
   ]
  },
  {
   "cell_type": "code",
   "execution_count": 99,
   "metadata": {},
   "outputs": [],
   "source": [
    "min_temp = min(temperatures_C)\n"
   ]
  },
  {
   "cell_type": "markdown",
   "metadata": {},
   "source": [
    "#### 2. Find the maximum temperature of the day and store it in a variable."
   ]
  },
  {
   "cell_type": "code",
   "execution_count": 100,
   "metadata": {},
   "outputs": [],
   "source": [
    "max_temp = max(temperatures_C)"
   ]
  },
  {
   "cell_type": "markdown",
   "metadata": {},
   "source": [
    "#### 3. Create a list with the temperatures that are greater than or equal to 70ºC. Store it in a variable."
   ]
  },
  {
   "cell_type": "code",
   "execution_count": 101,
   "metadata": {},
   "outputs": [],
   "source": [
    "greater_70 = [temp for temp in temperatures_C if temp >= 70]"
   ]
  },
  {
   "cell_type": "markdown",
   "metadata": {},
   "source": [
    "#### 4. Find the average temperature of the day and store it in a variable."
   ]
  },
  {
   "cell_type": "code",
   "execution_count": 102,
   "metadata": {},
   "outputs": [],
   "source": [
    "avg_temp = sum(temperatures_C)/len(temperatures_C)"
   ]
  },
  {
   "cell_type": "markdown",
   "metadata": {},
   "source": [
    "#### 5. Imagine that there was a sensor failure at 3am and the data for that specific hour was not recorded. How would you estimate the missing value? Replace the current value of the list at 3am for an estimation. "
   ]
  },
  {
   "cell_type": "code",
   "execution_count": 103,
   "metadata": {},
   "outputs": [],
   "source": [
    "temperatures_C[3] = (temperatures_C[2] + temperatures_C[4])/2\n",
    "\n",
    "avg_temp = sum(temperatures_C)/len(temperatures_C) #Recalculating day average"
   ]
  },
  {
   "cell_type": "markdown",
   "metadata": {},
   "source": [
    "#### 6. Bonus: the maintenance staff is from the United States and does not understand the international metric system. Help them by converting the temperatures from Celsius to Fahrenheit.\n",
    "To know more about temperature conversion check this [link](https://en.wikipedia.org/wiki/Conversion_of_units_of_temperature).\n",
    "\n",
    "**Formula**: \n",
    "\n",
    "$F = 1.8 * C + 32$"
   ]
  },
  {
   "cell_type": "code",
   "execution_count": 104,
   "metadata": {},
   "outputs": [],
   "source": [
    "temperatures_F =[n*1.8 + 32 for n in temperatures_C]"
   ]
  },
  {
   "cell_type": "markdown",
   "metadata": {},
   "source": [
    "#### 7. Make a decision!\n",
    "Now it's time to make a decision taking into account what you have seen until now. \n",
    "\n",
    "Remember that if one of the following events occurs, then the cooling system needs to be replaced for a new one to avoid damaging the processor.\n",
    "* More than 4 temperatures are greater than or equal to 70ºC.\n",
    "* Any temperature is above 80ºC.\n",
    "* The average temperature exceeds 65ºC.\n",
    "\n",
    "#### To make your decision, check if any of the three conditions above is met. You might need to use some of the variables you created in steps 1 to 6. Print a message to show if the cooling system needs to be changed or not."
   ]
  },
  {
   "cell_type": "code",
   "execution_count": 105,
   "metadata": {},
   "outputs": [
    {
     "name": "stdout",
     "output_type": "stream",
     "text": [
      "Cooling system needs to be replaced\n"
     ]
    }
   ],
   "source": [
    "events = 0\n",
    "\n",
    "if len(greater_70) > 4:\n",
    "    events += 1\n",
    "if max_temp > 80:\n",
    "    events += 1\n",
    "if avg_temp > 65:\n",
    "    events += 1\n",
    "\n",
    "if events > 0:\n",
    "    print(\"Cooling system needs to be replaced\")\n",
    "else:\n",
    "    print(\"Cooling system doesn't need to be replaced\")"
   ]
  },
  {
   "cell_type": "markdown",
   "metadata": {},
   "source": [
    "## Bonus\n",
    "\n",
    "The company has decided that the decision you made is not valid. They want you to analyze the data again but this time, the conditions that need to be met in order to change the cooling system are different.\n",
    "\n",
    "This time, if one of the following events occurs, then the cooling system needs to be replaced:\n",
    "* The temperature is greater than 70ºC during more than 4 consecutive hours.\n",
    "* Any temperature is above 80ºC.\n",
    "* The average temperature exceeds 65ºC.\n",
    "\n",
    "Follow the steps so that you can make the decision.\n",
    "\n",
    "#### 1. Create a list with the hours where the temperature is greater than 70ºC. Store it in a variable."
   ]
  },
  {
   "cell_type": "code",
   "execution_count": 106,
   "metadata": {},
   "outputs": [],
   "source": [
    "greater_70_hours = [i for i in range(len(temperatures_C)) if temperatures_C[i] > 70]"
   ]
  },
  {
   "cell_type": "markdown",
   "metadata": {},
   "source": [
    "#### 2. Check if the list you created in step 1 has more than 4 consecutive hours. "
   ]
  },
  {
   "cell_type": "code",
   "execution_count": 107,
   "metadata": {},
   "outputs": [
    {
     "name": "stdout",
     "output_type": "stream",
     "text": [
      "There are 7 consecutive hours with temperature above 70ºC\n"
     ]
    }
   ],
   "source": [
    "counter = 0\n",
    "lst = list(set(greater_70_hours)) \n",
    "consec_70 = False\n",
    "max_counter = 0\n",
    "\n",
    "for i in range(len(lst)-1):\n",
    "    if lst[i+1] - lst[i] != 1:\n",
    "        counter = 0\n",
    "    elif lst[i+1] - lst[i] == 1:\n",
    "        counter += 1\n",
    "    if counter > 3:\n",
    "        consec_70 = True\n",
    "        max_counter = counter\n",
    "        \n",
    "if consec_70 == True:\n",
    "    print(\"There are\", counter + 1,\"consecutive hours with temperature above 70ºC\")\n",
    "else:\n",
    "    print(\"There aren't more than 4 consecutives hours with temperature above 70ºC\")"
   ]
  },
  {
   "cell_type": "markdown",
   "metadata": {},
   "source": [
    "#### 3. Make the decision!\n",
    "To make your decision, check if any of the three conditions is met. Print a message to show if the cooling system needs to be changed or not."
   ]
  },
  {
   "cell_type": "code",
   "execution_count": 108,
   "metadata": {},
   "outputs": [
    {
     "name": "stdout",
     "output_type": "stream",
     "text": [
      "Cooling system needs to be replaced\n"
     ]
    }
   ],
   "source": [
    "events = 0\n",
    "\n",
    "if consec_70 == True:\n",
    "    events += 1\n",
    "if max_temp > 80:\n",
    "    events += 1\n",
    "if avg_temp > 65:\n",
    "    events += 1\n",
    "\n",
    "if events > 0:\n",
    "    print(\"Cooling system needs to be replaced\")\n",
    "else:\n",
    "    print(\"Cooling system doesn't need to be replaced\")"
   ]
  },
  {
   "cell_type": "markdown",
   "metadata": {},
   "source": [
    "#### 4. Find the average value of the temperature lists (ºC and ºF). What is the relation between both average values?"
   ]
  },
  {
   "cell_type": "code",
   "execution_count": 109,
   "metadata": {},
   "outputs": [
    {
     "name": "stdout",
     "output_type": "stream",
     "text": [
      "Average Celsius temperature: 62.833333333333336\n",
      "Average Fahrenheit temperature: 145.1\n",
      "Fahrenheit average converted to Celsius: 62.83333333333333\n",
      "It is the same temperature\n"
     ]
    }
   ],
   "source": [
    "avg_temp_F = sum(temperatures_F)/len(temperatures_F)\n",
    "print(\"Average Celsius temperature:\", avg_temp)\n",
    "print(\"Average Fahrenheit temperature:\", avg_temp_F)\n",
    "\n",
    "avg_temp_C = (avg_temp_F -32)/1.8\n",
    "print(\"Fahrenheit average converted to Celsius:\", avg_temp_C)\n",
    "print(\"It is the same temperature\")"
   ]
  },
  {
   "cell_type": "markdown",
   "metadata": {},
   "source": [
    "#### 5. Find the standard deviation of the temperature lists (ºC and ºF). What is the relation between both standard deviations?"
   ]
  },
  {
   "cell_type": "code",
   "execution_count": 113,
   "metadata": {},
   "outputs": [
    {
     "name": "stdout",
     "output_type": "stream",
     "text": [
      "Standard deviation of Celsius temperatures: 14.633485192833897\n",
      "Standard deviation of Fahrenheit temperatures: 26.34027334710101\n",
      "Fahrenheit standard deviation converted to Celsius: 14.633485192833895\n",
      "It is the same temperature\n"
     ]
    }
   ],
   "source": [
    "def stddev(lista):\n",
    "    values = lista[:]\n",
    "    avg_values = sum(values)/len(values)\n",
    "    \n",
    "    for i in range(len(values)):\n",
    "        values[i] -= avg_values\n",
    "        values[i] = values[i]**2\n",
    "\n",
    "    std = (sum(values)/len(values))**0.5\n",
    "    return std\n",
    "\n",
    "std_C = stddev(temperatures_C)\n",
    "std_F = stddev(temperatures_F)\n",
    "\n",
    "print(\"Standard deviation of Celsius temperatures:\", std_C)\n",
    "print(\"Standard deviation of Fahrenheit temperatures:\", std_F)\n",
    "std_FC = (std_F)/1.8 #Without '-32' because it is not a temperature, is a difference of temperatures.\n",
    "print(\"Fahrenheit standard deviation converted to Celsius:\", std_FC)\n",
    "print(\"It is the same temperature\")"
   ]
  },
  {
   "cell_type": "code",
   "execution_count": null,
   "metadata": {},
   "outputs": [],
   "source": []
  }
 ],
 "metadata": {
  "kernelspec": {
   "display_name": "Python 3",
   "language": "python",
   "name": "python3"
  },
  "language_info": {
   "codemirror_mode": {
    "name": "ipython",
    "version": 3
   },
   "file_extension": ".py",
   "mimetype": "text/x-python",
   "name": "python",
   "nbconvert_exporter": "python",
   "pygments_lexer": "ipython3",
   "version": "3.8.3"
  }
 },
 "nbformat": 4,
 "nbformat_minor": 2
}
